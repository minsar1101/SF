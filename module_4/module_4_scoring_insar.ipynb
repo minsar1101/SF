{
 "cells": [
  {
   "cell_type": "code",
   "execution_count": 1,
   "metadata": {},
   "outputs": [],
   "source": [
    "import os\n",
    "import numpy as np\n",
    "import pandas as pd\n",
    "import seaborn as sns\n",
    "import matplotlib.pyplot as plt\n",
    "from sklearn.feature_selection import f_classif, mutual_info_classif\n",
    "from sklearn.preprocessing import LabelEncoder, OneHotEncoder, StandardScaler\n",
    "from sklearn.model_selection import train_test_split, GridSearchCV\n",
    "from sklearn.linear_model import LogisticRegression\n",
    "from sklearn.metrics import confusion_matrix\n",
    "from sklearn.metrics import auc, roc_auc_score, roc_curve, accuracy_score \n",
    "from sklearn.metrics import precision_score, recall_score, f1_score\n",
    "from sklearn.metrics import plot_confusion_matrix, plot_roc_curve, plot_precision_recall_curve"
   ]
  },
  {
   "cell_type": "markdown",
   "metadata": {},
   "source": [
    "## 0. Функции и настройки"
   ]
  },
  {
   "cell_type": "code",
   "execution_count": 2,
   "metadata": {},
   "outputs": [],
   "source": [
    "RANDOM_SEED = 42\n",
    "%matplotlib inline"
   ]
  },
  {
   "cell_type": "code",
   "execution_count": 3,
   "metadata": {},
   "outputs": [],
   "source": [
    "# воспользуемся функциями, написанными для модуля 2 EDA\n",
    "def describe_categorical_var(series):\n",
    "    \"\"\"\n",
    "    Печатает значения, частоту вхождения, \n",
    "    кол-во пропущенных значений категориальной переменной\n",
    "    \"\"\"\n",
    "    print('\\n*********COLUMN: {}'.format(series.name))\n",
    "    print('Column has {} unique values'.format(series.nunique()))\n",
    "    print('Column has {} ({:.2%}%) missing values\\n'.\n",
    "          format(series.isnull().sum(), series.isnull().sum()/len(series)))          \n",
    "    #print(series.value_counts().head(10), '\\n')\n",
    "    print('Value frequency: \\n',series.value_counts(normalize=True).head(), '\\n')\n",
    "    sns.catplot(x=series, kind=\"count\", data=series)\n",
    "    plt.show()\n",
    "    \n",
    "\n",
    "def describe_numerical_var(series):\n",
    "    \"\"\"\n",
    "    Печатает значения, частоту вхождения, \n",
    "    кол-во пропущенных значений, IQR, выбросы и распределение числовой переменной \n",
    "    \"\"\"\n",
    "    print('\\n*********COLUMN: {}'.format(series.name))\n",
    "    p75 = series.quantile(0.75)\n",
    "    p25 = series.quantile(0.25)\n",
    "    IQR = p75 - p25\n",
    "    x_log = np.log(series.where(series > 0))\n",
    "    \n",
    "    fig, axes = plt.subplots(2,2, figsize = (10, 10))\n",
    "    sns.histplot(data=series, x=series, ax=axes[0,0]).set_title(series.name)\n",
    "    sns.histplot(data=series, x=x_log, ax=axes[0,1]).set_title(series.name+' Log')\n",
    "    \n",
    "    #fig, axes = plt.subplots(1,4)\n",
    "    sns.boxplot(x=series, ax=axes[1,0]).set_title(series.name + ' Boxplot')\n",
    "    sns.boxplot(x=x_log, ax=axes[1,1]).set_title(series.name+' Log Boxplot')\n",
    "    plt.show()\n",
    "\n",
    "    print(series.describe(), '\\n')\n",
    "    print('IQR = {}'.format(IQR))\n",
    "    print('Outliers: {} and {}\\n'.format(p25 - 1.5*IQR, p75 + 1.5*IQR))\n",
    "    print('Column has {} ({}%) missing values\\n'.\n",
    "          format(series.isnull().sum(), series.isnull().sum()/len(series)))"
   ]
  },
  {
   "cell_type": "code",
   "execution_count": 4,
   "metadata": {},
   "outputs": [],
   "source": [
    "class ModelData(): # класс для исследования модели\n",
    "    \"\"\"\n",
    "    Класс, позволяет быстро рисовать графики и изучать метрики модели\n",
    "    \"\"\"\n",
    "    def __init__(self, model, X_test, y_test):\n",
    "        self.model = model\n",
    "        self.X_test = X_test\n",
    "        self.y_test = y_test\n",
    "        self.y_pred = model.predict(X_test)\n",
    "        self.probs = model.predict_proba(X_test)[:,1]\n",
    "    \n",
    "    def roc_curve_plot(self):\n",
    "        plot_roc_curve(self.model, self.X_test, self.y_test)\n",
    "        plt.show()\n",
    "        \n",
    "    def conf_matrix_plot(self): \n",
    "        plot_confusion_matrix(self.model, self.X_test, self.y_test)\n",
    "        plt.show()\n",
    "    \n",
    "    def precision_recall_plot(self):\n",
    "        plot_precision_recall_curve(self.model, self.X_test, self.y_test)\n",
    "        plt.show()\n",
    "        \n",
    "        \n",
    "    def get_metrics(self):\n",
    "        result = pd.Series({\n",
    "            'accuracy' : accuracy_score(self.y_test, self.y_pred),\n",
    "            'precision' : precision_score(self.y_test, self.y_pred),\n",
    "            'recall' : recall_score(self.y_test, self.y_pred),\n",
    "            'F1' : f1_score(self.y_test, self.y_pred),\n",
    "            'ROC_AUC': roc_auc_score(self.y_test, self.probs) \n",
    "        })\n",
    "        return result"
   ]
  },
  {
   "cell_type": "markdown",
   "metadata": {},
   "source": [
    "## 1. Описание признаков\n",
    "* app_date - дата запроса, временная переменная, требует обработки.\n",
    "education - уровень образования, категориальная переменная, требует обработки и исправления пропущенных значений.\n",
    "* sex - двоичная переменная, требует обработки.\n",
    "* age - непрерывная переменная, требует обработки.\n",
    "* car - наличие машины, двоичная переменная, требует обработки.\n",
    "* car_type - наличие иномарки, бинарная переменная, требует обработки.\n",
    "* decline_app_cnt - количество отклоненных запросов, непрерывная переменная.\n",
    "* good_work - признак хорошо оплачиваемой работы, бинарная переменная.\n",
    "* score_bki - внутренний рейтинг БКИ (агентство кредитной информации), непрерывная переменная, все значения которой отрицательны.\n",
    "* bki_request_cnt - количество запросов в БКИ (агентство кредитной информации), непрерывная переменная.\n",
    "* region_rating - рейтинг региона, категориальная переменная.\n",
    "* home_address - классификатор домашнего адреса, категориальная переменная.\n",
    "* work_address - классификатор рабочих адресов, категориальная переменная.\n",
    "* income - уровень дохода клиента, непрерывная переменная.\n",
    "* sna - уровень связи с другими клиентами, категориальная переменная.\n",
    "* first_time - сколько времени клиент находится в базе данных, категориальная переменная.\n",
    "* foreign_passport - наличие паспорта, бинарная переменная, требует обработки.\n",
    "* default - наличие дефолта, бинарная целевая переменная"
   ]
  },
  {
   "cell_type": "code",
   "execution_count": 5,
   "metadata": {},
   "outputs": [],
   "source": [
    "# читаем данные\n",
    "df_train = pd.read_csv('train.csv')\n",
    "df_test = pd.read_csv('test.csv')"
   ]
  },
  {
   "cell_type": "code",
   "execution_count": 6,
   "metadata": {},
   "outputs": [
    {
     "name": "stdout",
     "output_type": "stream",
     "text": [
      "<class 'pandas.core.frame.DataFrame'>\n",
      "Int64Index: 110148 entries, 0 to 36348\n",
      "Data columns (total 20 columns):\n",
      " #   Column            Non-Null Count   Dtype  \n",
      "---  ------            --------------   -----  \n",
      " 0   client_id         110148 non-null  int64  \n",
      " 1   app_date          110148 non-null  object \n",
      " 2   education         109670 non-null  object \n",
      " 3   sex               110148 non-null  object \n",
      " 4   age               110148 non-null  int64  \n",
      " 5   car               110148 non-null  object \n",
      " 6   car_type          110148 non-null  object \n",
      " 7   decline_app_cnt   110148 non-null  int64  \n",
      " 8   good_work         110148 non-null  int64  \n",
      " 9   score_bki         110148 non-null  float64\n",
      " 10  bki_request_cnt   110148 non-null  int64  \n",
      " 11  region_rating     110148 non-null  int64  \n",
      " 12  home_address      110148 non-null  int64  \n",
      " 13  work_address      110148 non-null  int64  \n",
      " 14  income            110148 non-null  int64  \n",
      " 15  sna               110148 non-null  int64  \n",
      " 16  first_time        110148 non-null  int64  \n",
      " 17  foreign_passport  110148 non-null  object \n",
      " 18  default           73799 non-null   float64\n",
      " 19  if_train          110148 non-null  int64  \n",
      "dtypes: float64(2), int64(12), object(6)\n",
      "memory usage: 17.6+ MB\n"
     ]
    }
   ],
   "source": [
    "# объединяем данные\n",
    "df_train['if_train'] = 1\n",
    "df_test['if_train'] = 0\n",
    "df = pd.concat([df_train,df_test])\n",
    "df.info()"
   ]
  },
  {
   "cell_type": "code",
   "execution_count": 7,
   "metadata": {},
   "outputs": [
    {
     "data": {
      "text/html": [
       "<div>\n",
       "<style scoped>\n",
       "    .dataframe tbody tr th:only-of-type {\n",
       "        vertical-align: middle;\n",
       "    }\n",
       "\n",
       "    .dataframe tbody tr th {\n",
       "        vertical-align: top;\n",
       "    }\n",
       "\n",
       "    .dataframe thead th {\n",
       "        text-align: right;\n",
       "    }\n",
       "</style>\n",
       "<table border=\"1\" class=\"dataframe\">\n",
       "  <thead>\n",
       "    <tr style=\"text-align: right;\">\n",
       "      <th></th>\n",
       "      <th>client_id</th>\n",
       "      <th>app_date</th>\n",
       "      <th>education</th>\n",
       "      <th>sex</th>\n",
       "      <th>age</th>\n",
       "      <th>car</th>\n",
       "      <th>car_type</th>\n",
       "      <th>decline_app_cnt</th>\n",
       "      <th>good_work</th>\n",
       "      <th>score_bki</th>\n",
       "      <th>bki_request_cnt</th>\n",
       "      <th>region_rating</th>\n",
       "      <th>home_address</th>\n",
       "      <th>work_address</th>\n",
       "      <th>income</th>\n",
       "      <th>sna</th>\n",
       "      <th>first_time</th>\n",
       "      <th>foreign_passport</th>\n",
       "      <th>default</th>\n",
       "      <th>if_train</th>\n",
       "    </tr>\n",
       "  </thead>\n",
       "  <tbody>\n",
       "    <tr>\n",
       "      <th>0</th>\n",
       "      <td>25905</td>\n",
       "      <td>01FEB2014</td>\n",
       "      <td>SCH</td>\n",
       "      <td>M</td>\n",
       "      <td>62</td>\n",
       "      <td>Y</td>\n",
       "      <td>Y</td>\n",
       "      <td>0</td>\n",
       "      <td>0</td>\n",
       "      <td>-2.008753</td>\n",
       "      <td>1</td>\n",
       "      <td>50</td>\n",
       "      <td>1</td>\n",
       "      <td>2</td>\n",
       "      <td>18000</td>\n",
       "      <td>4</td>\n",
       "      <td>1</td>\n",
       "      <td>N</td>\n",
       "      <td>0.0</td>\n",
       "      <td>1</td>\n",
       "    </tr>\n",
       "    <tr>\n",
       "      <th>1</th>\n",
       "      <td>63161</td>\n",
       "      <td>12MAR2014</td>\n",
       "      <td>SCH</td>\n",
       "      <td>F</td>\n",
       "      <td>59</td>\n",
       "      <td>N</td>\n",
       "      <td>N</td>\n",
       "      <td>0</td>\n",
       "      <td>0</td>\n",
       "      <td>-1.532276</td>\n",
       "      <td>3</td>\n",
       "      <td>50</td>\n",
       "      <td>2</td>\n",
       "      <td>3</td>\n",
       "      <td>19000</td>\n",
       "      <td>4</td>\n",
       "      <td>1</td>\n",
       "      <td>N</td>\n",
       "      <td>0.0</td>\n",
       "      <td>1</td>\n",
       "    </tr>\n",
       "    <tr>\n",
       "      <th>2</th>\n",
       "      <td>25887</td>\n",
       "      <td>01FEB2014</td>\n",
       "      <td>SCH</td>\n",
       "      <td>M</td>\n",
       "      <td>25</td>\n",
       "      <td>Y</td>\n",
       "      <td>N</td>\n",
       "      <td>2</td>\n",
       "      <td>0</td>\n",
       "      <td>-1.408142</td>\n",
       "      <td>1</td>\n",
       "      <td>80</td>\n",
       "      <td>1</td>\n",
       "      <td>2</td>\n",
       "      <td>30000</td>\n",
       "      <td>1</td>\n",
       "      <td>4</td>\n",
       "      <td>Y</td>\n",
       "      <td>0.0</td>\n",
       "      <td>1</td>\n",
       "    </tr>\n",
       "    <tr>\n",
       "      <th>3</th>\n",
       "      <td>16222</td>\n",
       "      <td>23JAN2014</td>\n",
       "      <td>SCH</td>\n",
       "      <td>F</td>\n",
       "      <td>53</td>\n",
       "      <td>N</td>\n",
       "      <td>N</td>\n",
       "      <td>0</td>\n",
       "      <td>0</td>\n",
       "      <td>-2.057471</td>\n",
       "      <td>2</td>\n",
       "      <td>50</td>\n",
       "      <td>2</td>\n",
       "      <td>3</td>\n",
       "      <td>10000</td>\n",
       "      <td>1</td>\n",
       "      <td>3</td>\n",
       "      <td>N</td>\n",
       "      <td>0.0</td>\n",
       "      <td>1</td>\n",
       "    </tr>\n",
       "    <tr>\n",
       "      <th>4</th>\n",
       "      <td>101655</td>\n",
       "      <td>18APR2014</td>\n",
       "      <td>GRD</td>\n",
       "      <td>M</td>\n",
       "      <td>48</td>\n",
       "      <td>N</td>\n",
       "      <td>N</td>\n",
       "      <td>0</td>\n",
       "      <td>1</td>\n",
       "      <td>-1.244723</td>\n",
       "      <td>1</td>\n",
       "      <td>60</td>\n",
       "      <td>2</td>\n",
       "      <td>3</td>\n",
       "      <td>30000</td>\n",
       "      <td>1</td>\n",
       "      <td>4</td>\n",
       "      <td>Y</td>\n",
       "      <td>0.0</td>\n",
       "      <td>1</td>\n",
       "    </tr>\n",
       "  </tbody>\n",
       "</table>\n",
       "</div>"
      ],
      "text/plain": [
       "   client_id   app_date education sex  age car car_type  decline_app_cnt  \\\n",
       "0      25905  01FEB2014       SCH   M   62   Y        Y                0   \n",
       "1      63161  12MAR2014       SCH   F   59   N        N                0   \n",
       "2      25887  01FEB2014       SCH   M   25   Y        N                2   \n",
       "3      16222  23JAN2014       SCH   F   53   N        N                0   \n",
       "4     101655  18APR2014       GRD   M   48   N        N                0   \n",
       "\n",
       "   good_work  score_bki  bki_request_cnt  region_rating  home_address  \\\n",
       "0          0  -2.008753                1             50             1   \n",
       "1          0  -1.532276                3             50             2   \n",
       "2          0  -1.408142                1             80             1   \n",
       "3          0  -2.057471                2             50             2   \n",
       "4          1  -1.244723                1             60             2   \n",
       "\n",
       "   work_address  income  sna  first_time foreign_passport  default  if_train  \n",
       "0             2   18000    4           1                N      0.0         1  \n",
       "1             3   19000    4           1                N      0.0         1  \n",
       "2             2   30000    1           4                Y      0.0         1  \n",
       "3             3   10000    1           3                N      0.0         1  \n",
       "4             3   30000    1           4                Y      0.0         1  "
      ]
     },
     "execution_count": 7,
     "metadata": {},
     "output_type": "execute_result"
    }
   ],
   "source": [
    "df.head(5)"
   ]
  },
  {
   "cell_type": "code",
   "execution_count": 8,
   "metadata": {},
   "outputs": [
    {
     "name": "stdout",
     "output_type": "stream",
     "text": [
      "client_id:\t0 nan,\t110148 unique\n",
      "app_date:\t0 nan,\t120 unique\n",
      "education:\t478 nan,\t5 unique\n",
      "sex:\t0 nan,\t2 unique\n",
      "age:\t0 nan,\t52 unique\n",
      "car:\t0 nan,\t2 unique\n",
      "car_type:\t0 nan,\t2 unique\n",
      "decline_app_cnt:\t0 nan,\t24 unique\n",
      "good_work:\t0 nan,\t2 unique\n",
      "score_bki:\t0 nan,\t102618 unique\n",
      "bki_request_cnt:\t0 nan,\t40 unique\n",
      "region_rating:\t0 nan,\t7 unique\n",
      "home_address:\t0 nan,\t3 unique\n",
      "work_address:\t0 nan,\t3 unique\n",
      "income:\t0 nan,\t1207 unique\n",
      "sna:\t0 nan,\t4 unique\n",
      "first_time:\t0 nan,\t4 unique\n",
      "foreign_passport:\t0 nan,\t2 unique\n",
      "default:\t36349 nan,\t2 unique\n",
      "if_train:\t0 nan,\t2 unique\n"
     ]
    }
   ],
   "source": [
    "# посмотрим, какие колонки бинарные, какие - категориальные\n",
    "for column in df.columns:\n",
    "    print('{}:\\t{} nan,\\t{} unique'.\n",
    "         format(df[column].name, df[column].isna().sum(), df[column].nunique()))"
   ]
  },
  {
   "cell_type": "code",
   "execution_count": 9,
   "metadata": {},
   "outputs": [],
   "source": [
    "# объединим признаки по типам\n",
    "time_cols = ['app_date']\n",
    "cat_cols = ['education', 'region_rating', 'home_address', 'work_address', 'sna', 'first_time']\n",
    "bin_cols = ['sex', 'car', 'car_type', 'good_work', 'foreign_passport']\n",
    "num_cols = ['age','decline_app_cnt', 'score_bki', 'bki_request_cnt','income']"
   ]
  },
  {
   "cell_type": "code",
   "execution_count": 10,
   "metadata": {},
   "outputs": [],
   "source": [
    "df.drop(['client_id'],  axis = 1, inplace = True)"
   ]
  },
  {
   "cell_type": "markdown",
   "metadata": {},
   "source": [
    "## 2. EDA"
   ]
  },
  {
   "cell_type": "markdown",
   "metadata": {},
   "source": [
    "### 2.1 Временные признаки"
   ]
  },
  {
   "cell_type": "code",
   "execution_count": 11,
   "metadata": {},
   "outputs": [],
   "source": [
    "# преобразуем из строки в дату\n",
    "df['app_date'] =pd.to_datetime(df['app_date'], format='%d%b%Y')"
   ]
  },
  {
   "cell_type": "code",
   "execution_count": 12,
   "metadata": {},
   "outputs": [
    {
     "data": {
      "text/plain": [
       "Timestamp('2014-01-01 00:00:00')"
      ]
     },
     "execution_count": 12,
     "metadata": {},
     "output_type": "execute_result"
    }
   ],
   "source": [
    "df['app_date'].min()"
   ]
  },
  {
   "cell_type": "code",
   "execution_count": 13,
   "metadata": {},
   "outputs": [
    {
     "data": {
      "text/plain": [
       "Timestamp('2014-04-30 00:00:00')"
      ]
     },
     "execution_count": 13,
     "metadata": {},
     "output_type": "execute_result"
    }
   ],
   "source": [
    "df['app_date'].max()"
   ]
  },
  {
   "cell_type": "code",
   "execution_count": 14,
   "metadata": {},
   "outputs": [
    {
     "data": {
      "text/plain": [
       "<AxesSubplot:>"
      ]
     },
     "execution_count": 14,
     "metadata": {},
     "output_type": "execute_result"
    },
    {
     "data": {
      "image/png": "[encoded data removed]",
      "text/plain": [
       "<Figure size 432x288 with 1 Axes>"
      ]
     },
     "metadata": {
      "needs_background": "light"
     },
     "output_type": "display_data"
    }
   ],
   "source": [
    "df['app_date'].dt.month.value_counts().plot.bar()"
   ]
  },
  {
   "cell_type": "code",
   "execution_count": 15,
   "metadata": {},
   "outputs": [
    {
     "data": {
      "text/plain": [
       "<AxesSubplot:>"
      ]
     },
     "execution_count": 15,
     "metadata": {},
     "output_type": "execute_result"
    },
    {
     "data": {
      "image/png": "[encoded data removed]",
      "text/plain": [
       "<Figure size 432x288 with 1 Axes>"
      ]
     },
     "metadata": {
      "needs_background": "light"
     },
     "output_type": "display_data"
    }
   ],
   "source": [
    "df['app_date'].dt.weekday.value_counts().plot.bar()"
   ]
  },
  {
   "cell_type": "markdown",
   "metadata": {},
   "source": [
    "Видим, что все анкеты собраны в рамках одного года и примерно равномерно распределены по месяцам - значит, можно добавить такие параметры как номер месяца и день года.\n",
    "Также попробуем добавить день недели подачи заявки"
   ]
  },
  {
   "cell_type": "code",
   "execution_count": 16,
   "metadata": {},
   "outputs": [],
   "source": [
    "# формируем новые признаки\n",
    "df['month'] = df['app_date'].dt.month\n",
    "df['weekday'] = df['app_date'].dt.weekday\n",
    "df['day_of_year'] = (df['app_date'] - pd.to_datetime('01/01/2014')).dt.days"
   ]
  },
  {
   "cell_type": "code",
   "execution_count": 17,
   "metadata": {},
   "outputs": [
    {
     "data": {
      "text/html": [
       "<div>\n",
       "<style scoped>\n",
       "    .dataframe tbody tr th:only-of-type {\n",
       "        vertical-align: middle;\n",
       "    }\n",
       "\n",
       "    .dataframe tbody tr th {\n",
       "        vertical-align: top;\n",
       "    }\n",
       "\n",
       "    .dataframe thead th {\n",
       "        text-align: right;\n",
       "    }\n",
       "</style>\n",
       "<table border=\"1\" class=\"dataframe\">\n",
       "  <thead>\n",
       "    <tr style=\"text-align: right;\">\n",
       "      <th></th>\n",
       "      <th>app_date</th>\n",
       "      <th>month</th>\n",
       "      <th>weekday</th>\n",
       "      <th>day_of_year</th>\n",
       "    </tr>\n",
       "  </thead>\n",
       "  <tbody>\n",
       "    <tr>\n",
       "      <th>15285</th>\n",
       "      <td>2014-02-21</td>\n",
       "      <td>2</td>\n",
       "      <td>4</td>\n",
       "      <td>51</td>\n",
       "    </tr>\n",
       "    <tr>\n",
       "      <th>11776</th>\n",
       "      <td>2014-03-20</td>\n",
       "      <td>3</td>\n",
       "      <td>3</td>\n",
       "      <td>78</td>\n",
       "    </tr>\n",
       "    <tr>\n",
       "      <th>58432</th>\n",
       "      <td>2014-02-21</td>\n",
       "      <td>2</td>\n",
       "      <td>4</td>\n",
       "      <td>51</td>\n",
       "    </tr>\n",
       "    <tr>\n",
       "      <th>5433</th>\n",
       "      <td>2014-01-22</td>\n",
       "      <td>1</td>\n",
       "      <td>2</td>\n",
       "      <td>21</td>\n",
       "    </tr>\n",
       "    <tr>\n",
       "      <th>35461</th>\n",
       "      <td>2014-03-21</td>\n",
       "      <td>3</td>\n",
       "      <td>4</td>\n",
       "      <td>79</td>\n",
       "    </tr>\n",
       "  </tbody>\n",
       "</table>\n",
       "</div>"
      ],
      "text/plain": [
       "        app_date  month  weekday  day_of_year\n",
       "15285 2014-02-21      2        4           51\n",
       "11776 2014-03-20      3        3           78\n",
       "58432 2014-02-21      2        4           51\n",
       "5433  2014-01-22      1        2           21\n",
       "35461 2014-03-21      3        4           79"
      ]
     },
     "execution_count": 17,
     "metadata": {},
     "output_type": "execute_result"
    }
   ],
   "source": [
    "df[['app_date','month','weekday','day_of_year']].sample(5)"
   ]
  },
  {
   "cell_type": "code",
   "execution_count": 18,
   "metadata": {},
   "outputs": [
    {
     "data": {
      "text/plain": [
       "<AxesSubplot:>"
      ]
     },
     "execution_count": 18,
     "metadata": {},
     "output_type": "execute_result"
    },
    {
     "data": {
      "image/png": "[encoded data removed]",
      "text/plain": [
       "<Figure size 288x288 with 2 Axes>"
      ]
     },
     "metadata": {
      "needs_background": "light"
     },
     "output_type": "display_data"
    }
   ],
   "source": [
    "# посмотрим корреляцию добавленных признаков\n",
    "plt.figure(figsize=(4, 4))\n",
    "sns.heatmap(df[['month','weekday','day_of_year']].corr().abs(), vmin=0, vmax=1)"
   ]
  },
  {
   "cell_type": "markdown",
   "metadata": {},
   "source": [
    "Корреляция month и day_of_year высокая, оставим только один. Остальное удалим"
   ]
  },
  {
   "cell_type": "code",
   "execution_count": 19,
   "metadata": {},
   "outputs": [],
   "source": [
    "df.drop(['app_date', 'month'],  axis = 1, inplace = True)\n",
    "num_cols.append('day_of_year')\n",
    "cat_cols.append('weekday')"
   ]
  },
  {
   "cell_type": "markdown",
   "metadata": {},
   "source": [
    "### 2.2 Категориальные признаки"
   ]
  },
  {
   "cell_type": "code",
   "execution_count": 20,
   "metadata": {
    "scrolled": false
   },
   "outputs": [
    {
     "name": "stdout",
     "output_type": "stream",
     "text": [
      "\n",
      "*********COLUMN: education\n",
      "Column has 5 unique values\n",
      "Column has 478 (0.43%%) missing values\n",
      "\n",
      "Value frequency: \n",
      " SCH    0.528841\n",
      "GRD    0.317024\n",
      "UGR    0.134476\n",
      "PGR    0.017006\n",
      "ACD    0.002653\n",
      "Name: education, dtype: float64 \n",
      "\n"
     ]
    },
    {
     "data": {
      "image/png": "[encoded data removed]",
      "text/plain": [
       "<Figure size 360x360 with 1 Axes>"
      ]
     },
     "metadata": {
      "needs_background": "light"
     },
     "output_type": "display_data"
    },
    {
     "name": "stdout",
     "output_type": "stream",
     "text": [
      "\n",
      "*********COLUMN: region_rating\n",
      "Column has 7 unique values\n",
      "Column has 0 (0.00%%) missing values\n",
      "\n",
      "Value frequency: \n",
      " 50    0.372054\n",
      "60    0.217880\n",
      "40    0.162935\n",
      "80    0.155881\n",
      "70    0.084468\n",
      "Name: region_rating, dtype: float64 \n",
      "\n"
     ]
    },
    {
     "data": {
      "image/png": "[encoded data removed]",
      "text/plain": [
       "<Figure size 360x360 with 1 Axes>"
      ]
     },
     "metadata": {
      "needs_background": "light"
     },
     "output_type": "display_data"
    },
    {
     "name": "stdout",
     "output_type": "stream",
     "text": [
      "\n",
      "*********COLUMN: home_address\n",
      "Column has 3 unique values\n",
      "Column has 0 (0.00%%) missing values\n",
      "\n",
      "Value frequency: \n",
      " 2    0.541008\n",
      "1    0.442023\n",
      "3    0.016968\n",
      "Name: home_address, dtype: float64 \n",
      "\n"
     ]
    },
    {
     "data": {
      "image/png": "[encoded data removed]",
      "text/plain": [
       "<Figure size 360x360 with 1 Axes>"
      ]
     },
     "metadata": {
      "needs_background": "light"
     },
     "output_type": "display_data"
    },
    {
     "name": "stdout",
     "output_type": "stream",
     "text": [
      "\n",
      "*********COLUMN: work_address\n",
      "Column has 3 unique values\n",
      "Column has 0 (0.00%%) missing values\n",
      "\n",
      "Value frequency: \n",
      " 3    0.609298\n",
      "2    0.279270\n",
      "1    0.111432\n",
      "Name: work_address, dtype: float64 \n",
      "\n"
     ]
    },
    {
     "data": {
      "image/png": "[encoded data removed]",
      "text/plain": [
       "<Figure size 360x360 with 1 Axes>"
      ]
     },
     "metadata": {
      "needs_background": "light"
     },
     "output_type": "display_data"
    },
    {
     "name": "stdout",
     "output_type": "stream",
     "text": [
      "\n",
      "*********COLUMN: sna\n",
      "Column has 4 unique values\n",
      "Column has 0 (0.00%%) missing values\n",
      "\n",
      "Value frequency: \n",
      " 1    0.641691\n",
      "4    0.158705\n",
      "2    0.143734\n",
      "3    0.055870\n",
      "Name: sna, dtype: float64 \n",
      "\n"
     ]
    },
    {
     "data": {
      "image/png": "[encoded data removed]",
      "text/plain": [
       "<Figure size 360x360 with 1 Axes>"
      ]
     },
     "metadata": {
      "needs_background": "light"
     },
     "output_type": "display_data"
    },
    {
     "name": "stdout",
     "output_type": "stream",
     "text": [
      "\n",
      "*********COLUMN: first_time\n",
      "Column has 4 unique values\n",
      "Column has 0 (0.00%%) missing values\n",
      "\n",
      "Value frequency: \n",
      " 3    0.422958\n",
      "4    0.254358\n",
      "1    0.166104\n",
      "2    0.156580\n",
      "Name: first_time, dtype: float64 \n",
      "\n"
     ]
    },
    {
     "data": {
      "image/png": "[encoded data removed]",
      "text/plain": [
       "<Figure size 360x360 with 1 Axes>"
      ]
     },
     "metadata": {
      "needs_background": "light"
     },
     "output_type": "display_data"
    },
    {
     "name": "stdout",
     "output_type": "stream",
     "text": [
      "\n",
      "*********COLUMN: weekday\n",
      "Column has 7 unique values\n",
      "Column has 0 (0.00%%) missing values\n",
      "\n",
      "Value frequency: \n",
      " 1    0.165051\n",
      "0    0.162127\n",
      "2    0.159613\n",
      "3    0.158160\n",
      "4    0.152059\n",
      "Name: weekday, dtype: float64 \n",
      "\n"
     ]
    },
    {
     "data": {
      "image/png": "[encoded data removed]",
      "text/plain": [
       "<Figure size 360x360 with 1 Axes>"
      ]
     },
     "metadata": {
      "needs_background": "light"
     },
     "output_type": "display_data"
    }
   ],
   "source": [
    "for column in cat_cols:\n",
    "    describe_categorical_var(df[column])"
   ]
  },
  {
   "cell_type": "code",
   "execution_count": 21,
   "metadata": {},
   "outputs": [],
   "source": [
    "# заполним пропуски в education модой\n",
    "df['education'].fillna(df['education'].mode()[0], inplace=True)"
   ]
  },
  {
   "cell_type": "code",
   "execution_count": 22,
   "metadata": {},
   "outputs": [
    {
     "data": {
      "text/plain": [
       "array([3, 1, 4, 2, 0])"
      ]
     },
     "execution_count": 22,
     "metadata": {},
     "output_type": "execute_result"
    }
   ],
   "source": [
    "# преобразуем education в числовой формат\n",
    "label_encoder = LabelEncoder()\n",
    "df['education'] = label_encoder.fit_transform(df['education'])\n",
    "df['education'].unique()"
   ]
  },
  {
   "cell_type": "code",
   "execution_count": 23,
   "metadata": {},
   "outputs": [
    {
     "data": {
      "text/plain": [
       "array([3, 6, 4, 2, 5, 0, 1], dtype=int64)"
      ]
     },
     "execution_count": 23,
     "metadata": {},
     "output_type": "execute_result"
    }
   ],
   "source": [
    "# преобразуем region_rating в числовой формат\n",
    "df['region_rating'] = label_encoder.fit_transform(df['region_rating'])\n",
    "df['region_rating'].unique()"
   ]
  },
  {
   "cell_type": "markdown",
   "metadata": {},
   "source": [
    "### 2.3 Количественные признаки"
   ]
  },
  {
   "cell_type": "code",
   "execution_count": 24,
   "metadata": {
    "scrolled": false
   },
   "outputs": [
    {
     "name": "stdout",
     "output_type": "stream",
     "text": [
      "\n",
      "*********COLUMN: age\n"
     ]
    },
    {
     "data": {
      "image/png": "[encoded data removed]",
      "text/plain": [
       "<Figure size 720x720 with 4 Axes>"
      ]
     },
     "metadata": {
      "needs_background": "light"
     },
     "output_type": "display_data"
    },
    {
     "name": "stdout",
     "output_type": "stream",
     "text": [
      "count    110148.000000\n",
      "mean         39.249410\n",
      "std          11.518063\n",
      "min          21.000000\n",
      "25%          30.000000\n",
      "50%          37.000000\n",
      "75%          48.000000\n",
      "max          72.000000\n",
      "Name: age, dtype: float64 \n",
      "\n",
      "IQR = 18.0\n",
      "Outliers: 3.0 and 75.0\n",
      "\n",
      "Column has 0 (0.0%) missing values\n",
      "\n",
      "\n",
      "*********COLUMN: decline_app_cnt\n"
     ]
    },
    {
     "data": {
      "image/png": "[encoded data removed]",
      "text/plain": [
       "<Figure size 720x720 with 4 Axes>"
      ]
     },
     "metadata": {
      "needs_background": "light"
     },
     "output_type": "display_data"
    },
    {
     "name": "stdout",
     "output_type": "stream",
     "text": [
      "count    110148.000000\n",
      "mean          0.273205\n",
      "std           0.799099\n",
      "min           0.000000\n",
      "25%           0.000000\n",
      "50%           0.000000\n",
      "75%           0.000000\n",
      "max          33.000000\n",
      "Name: decline_app_cnt, dtype: float64 \n",
      "\n",
      "IQR = 0.0\n",
      "Outliers: 0.0 and 0.0\n",
      "\n",
      "Column has 0 (0.0%) missing values\n",
      "\n",
      "\n",
      "*********COLUMN: score_bki\n"
     ]
    },
    {
     "data": {
      "image/png": "[encoded data removed]",
      "text/plain": [
       "<Figure size 720x720 with 4 Axes>"
      ]
     },
     "metadata": {
      "needs_background": "light"
     },
     "output_type": "display_data"
    },
    {
     "name": "stdout",
     "output_type": "stream",
     "text": [
      "count    110148.000000\n",
      "mean         -1.904535\n",
      "std           0.499397\n",
      "min          -3.624586\n",
      "25%          -2.260434\n",
      "50%          -1.920823\n",
      "75%          -1.567888\n",
      "max           0.199773\n",
      "Name: score_bki, dtype: float64 \n",
      "\n",
      "IQR = 0.6925455175000004\n",
      "Outliers: -3.299251946250001 and -0.5290698762499992\n",
      "\n",
      "Column has 0 (0.0%) missing values\n",
      "\n",
      "\n",
      "*********COLUMN: bki_request_cnt\n"
     ]
    },
    {
     "data": {
      "image/png": "[encoded data removed]",
      "text/plain": [
       "<Figure size 720x720 with 4 Axes>"
      ]
     },
     "metadata": {
      "needs_background": "light"
     },
     "output_type": "display_data"
    },
    {
     "name": "stdout",
     "output_type": "stream",
     "text": [
      "count    110148.000000\n",
      "mean          2.005002\n",
      "std           2.266926\n",
      "min           0.000000\n",
      "25%           0.000000\n",
      "50%           1.000000\n",
      "75%           3.000000\n",
      "max          53.000000\n",
      "Name: bki_request_cnt, dtype: float64 \n",
      "\n",
      "IQR = 3.0\n",
      "Outliers: -4.5 and 7.5\n",
      "\n",
      "Column has 0 (0.0%) missing values\n",
      "\n",
      "\n",
      "*********COLUMN: income\n"
     ]
    },
    {
     "data": {
      "image/png": "[encoded data removed]",
      "text/plain": [
       "<Figure size 720x720 with 4 Axes>"
      ]
     },
     "metadata": {
      "needs_background": "light"
     },
     "output_type": "display_data"
    },
    {
     "name": "stdout",
     "output_type": "stream",
     "text": [
      "count     110148.000000\n",
      "mean       41012.648537\n",
      "std        45399.735051\n",
      "min         1000.000000\n",
      "25%        20000.000000\n",
      "50%        30000.000000\n",
      "75%        48000.000000\n",
      "max      1000000.000000\n",
      "Name: income, dtype: float64 \n",
      "\n",
      "IQR = 28000.0\n",
      "Outliers: -22000.0 and 90000.0\n",
      "\n",
      "Column has 0 (0.0%) missing values\n",
      "\n",
      "\n",
      "*********COLUMN: day_of_year\n"
     ]
    },
    {
     "data": {
      "image/png": "[encoded data removed]",
      "text/plain": [
       "<Figure size 720x720 with 4 Axes>"
      ]
     },
     "metadata": {
      "needs_background": "light"
     },
     "output_type": "display_data"
    },
    {
     "name": "stdout",
     "output_type": "stream",
     "text": [
      "count    110148.000000\n",
      "mean         60.971466\n",
      "std          32.076078\n",
      "min           0.000000\n",
      "25%          33.000000\n",
      "50%          62.000000\n",
      "75%          89.000000\n",
      "max         119.000000\n",
      "Name: day_of_year, dtype: float64 \n",
      "\n",
      "IQR = 56.0\n",
      "Outliers: -51.0 and 173.0\n",
      "\n",
      "Column has 0 (0.0%) missing values\n",
      "\n"
     ]
    }
   ],
   "source": [
    "for column in num_cols:\n",
    "    describe_numerical_var(df[column])"
   ]
  },
  {
   "cell_type": "markdown",
   "metadata": {},
   "source": [
    "Вывод: пропущенных значений нет. Признаки age, decline_app_cnt, bki_request_cnt, income можно логарифмировать, чтобы приблизить их распределение к нормальному. Можно создать новый бинарный признак if_had_decline - если у клиента был отказ"
   ]
  },
  {
   "cell_type": "code",
   "execution_count": 25,
   "metadata": {},
   "outputs": [],
   "source": [
    "df['if_had_decline'] = df['decline_app_cnt'].apply(lambda x: 0 if x < 1 else 1)\n",
    "bin_cols.append('if_had_decline')"
   ]
  },
  {
   "cell_type": "code",
   "execution_count": 26,
   "metadata": {},
   "outputs": [],
   "source": [
    "# прологарифмируем выбранные колонки\n",
    "for col in ['age', 'decline_app_cnt', 'bki_request_cnt', 'income']:\n",
    "    df[col] = np.log(df[col] + 1)"
   ]
  },
  {
   "cell_type": "code",
   "execution_count": 27,
   "metadata": {},
   "outputs": [
    {
     "data": {
      "text/plain": [
       "<AxesSubplot:>"
      ]
     },
     "execution_count": 27,
     "metadata": {},
     "output_type": "execute_result"
    },
    {
     "data": {
      "image/png": "[encoded data removed]",
      "text/plain": [
       "<Figure size 576x576 with 2 Axes>"
      ]
     },
     "metadata": {
      "needs_background": "light"
     },
     "output_type": "display_data"
    }
   ],
   "source": [
    "plt.figure(figsize=(8, 8))\n",
    "sns.heatmap(df[num_cols].corr().abs(), vmin=0, vmax=1)"
   ]
  },
  {
   "cell_type": "markdown",
   "metadata": {},
   "source": [
    "Видим, что между количесественными признаками нет высокой корреляции\n",
    "Посмотрим степень влияния количественных признаков на целевую переменную"
   ]
  },
  {
   "cell_type": "code",
   "execution_count": 28,
   "metadata": {},
   "outputs": [
    {
     "data": {
      "text/plain": [
       "<AxesSubplot:>"
      ]
     },
     "execution_count": 28,
     "metadata": {},
     "output_type": "execute_result"
    },
    {
     "data": {
      "image/png": "[encoded data removed]",
      "text/plain": [
       "<Figure size 432x288 with 1 Axes>"
      ]
     },
     "metadata": {
      "needs_background": "light"
     },
     "output_type": "display_data"
    }
   ],
   "source": [
    "imp_num = pd.Series(f_classif(df[df['if_train']==1][num_cols], df[df['if_train']==1]['default'])[0], index = num_cols)\n",
    "imp_num.sort_values(inplace = True)\n",
    "imp_num.plot(kind = 'barh')"
   ]
  },
  {
   "cell_type": "markdown",
   "metadata": {},
   "source": [
    "### 2.4 Бинарные признаки"
   ]
  },
  {
   "cell_type": "code",
   "execution_count": 29,
   "metadata": {
    "scrolled": false
   },
   "outputs": [
    {
     "name": "stdout",
     "output_type": "stream",
     "text": [
      "\n",
      "*********COLUMN: sex\n",
      "Column has 2 unique values\n",
      "Column has 0 (0.00%%) missing values\n",
      "\n",
      "Value frequency: \n",
      " F    0.56139\n",
      "M    0.43861\n",
      "Name: sex, dtype: float64 \n",
      "\n"
     ]
    },
    {
     "data": {
      "image/png": "[encoded data removed]",
      "text/plain": [
       "<Figure size 360x360 with 1 Axes>"
      ]
     },
     "metadata": {
      "needs_background": "light"
     },
     "output_type": "display_data"
    },
    {
     "name": "stdout",
     "output_type": "stream",
     "text": [
      "\n",
      "*********COLUMN: car\n",
      "Column has 2 unique values\n",
      "Column has 0 (0.00%%) missing values\n",
      "\n",
      "Value frequency: \n",
      " N    0.674456\n",
      "Y    0.325544\n",
      "Name: car, dtype: float64 \n",
      "\n"
     ]
    },
    {
     "data": {
      "image/png": "[encoded data removed]",
      "text/plain": [
       "<Figure size 360x360 with 1 Axes>"
      ]
     },
     "metadata": {
      "needs_background": "light"
     },
     "output_type": "display_data"
    },
    {
     "name": "stdout",
     "output_type": "stream",
     "text": [
      "\n",
      "*********COLUMN: car_type\n",
      "Column has 2 unique values\n",
      "Column has 0 (0.00%%) missing values\n",
      "\n",
      "Value frequency: \n",
      " N    0.809275\n",
      "Y    0.190725\n",
      "Name: car_type, dtype: float64 \n",
      "\n"
     ]
    },
    {
     "data": {
      "image/png": "[encoded data removed]",
      "text/plain": [
       "<Figure size 360x360 with 1 Axes>"
      ]
     },
     "metadata": {
      "needs_background": "light"
     },
     "output_type": "display_data"
    },
    {
     "name": "stdout",
     "output_type": "stream",
     "text": [
      "\n",
      "*********COLUMN: good_work\n",
      "Column has 2 unique values\n",
      "Column has 0 (0.00%%) missing values\n",
      "\n",
      "Value frequency: \n",
      " 0    0.834486\n",
      "1    0.165514\n",
      "Name: good_work, dtype: float64 \n",
      "\n"
     ]
    },
    {
     "data": {
      "image/png": "[encoded data removed]",
      "text/plain": [
       "<Figure size 360x360 with 1 Axes>"
      ]
     },
     "metadata": {
      "needs_background": "light"
     },
     "output_type": "display_data"
    },
    {
     "name": "stdout",
     "output_type": "stream",
     "text": [
      "\n",
      "*********COLUMN: foreign_passport\n",
      "Column has 2 unique values\n",
      "Column has 0 (0.00%%) missing values\n",
      "\n",
      "Value frequency: \n",
      " N    0.850864\n",
      "Y    0.149136\n",
      "Name: foreign_passport, dtype: float64 \n",
      "\n"
     ]
    },
    {
     "data": {
      "image/png": "[encoded data removed]",
      "text/plain": [
       "<Figure size 360x360 with 1 Axes>"
      ]
     },
     "metadata": {
      "needs_background": "light"
     },
     "output_type": "display_data"
    },
    {
     "name": "stdout",
     "output_type": "stream",
     "text": [
      "\n",
      "*********COLUMN: if_had_decline\n",
      "Column has 2 unique values\n",
      "Column has 0 (0.00%%) missing values\n",
      "\n",
      "Value frequency: \n",
      " 0    0.830437\n",
      "1    0.169563\n",
      "Name: if_had_decline, dtype: float64 \n",
      "\n"
     ]
    },
    {
     "data": {
      "image/png": "[encoded data removed]",
      "text/plain": [
       "<Figure size 360x360 with 1 Axes>"
      ]
     },
     "metadata": {
      "needs_background": "light"
     },
     "output_type": "display_data"
    }
   ],
   "source": [
    "for column in bin_cols:\n",
    "    describe_categorical_var(df[column])"
   ]
  },
  {
   "cell_type": "code",
   "execution_count": 30,
   "metadata": {},
   "outputs": [],
   "source": [
    "# закодируем бинарные признаки\n",
    "label_encoder = LabelEncoder()\n",
    "for col in bin_cols:\n",
    "    df[col] = label_encoder.fit_transform(df[col])"
   ]
  },
  {
   "cell_type": "markdown",
   "metadata": {},
   "source": [
    "Посмотрим на значимость категориальных и бинарных признаков"
   ]
  },
  {
   "cell_type": "code",
   "execution_count": 31,
   "metadata": {},
   "outputs": [
    {
     "data": {
      "text/plain": [
       "<AxesSubplot:>"
      ]
     },
     "execution_count": 31,
     "metadata": {},
     "output_type": "execute_result"
    },
    {
     "data": {
      "image/png": "[encoded data removed]",
      "text/plain": [
       "<Figure size 432x288 with 1 Axes>"
      ]
     },
     "metadata": {
      "needs_background": "light"
     },
     "output_type": "display_data"
    }
   ],
   "source": [
    "imp_cat = pd.Series(mutual_info_classif(df[df['if_train'] == 1][bin_cols + cat_cols], \n",
    "                                        df[df['if_train'] == 1]['default'], \n",
    "                                     discrete_features =True), index = bin_cols + cat_cols)\n",
    "imp_cat.sort_values(inplace = True)\n",
    "imp_cat.plot(kind = 'barh')"
   ]
  },
  {
   "cell_type": "code",
   "execution_count": 32,
   "metadata": {},
   "outputs": [
    {
     "data": {
      "text/plain": [
       "<AxesSubplot:>"
      ]
     },
     "execution_count": 32,
     "metadata": {},
     "output_type": "execute_result"
    },
    {
     "data": {
      "image/png": "[encoded data removed]",
      "text/plain": [
       "<Figure size 432x288 with 1 Axes>"
      ]
     },
     "metadata": {
      "needs_background": "light"
     },
     "output_type": "display_data"
    }
   ],
   "source": [
    "# на все данные в целом\n",
    "ml_cols = num_cols + bin_cols + cat_cols \n",
    "imp_cat = pd.Series(mutual_info_classif(df[ml_cols][df['if_train'] == 1], \n",
    "                                        df[df['if_train'] == 1]['default'], \n",
    "                                     discrete_features =True), index = ml_cols)\n",
    "imp_cat.sort_values(inplace = True)\n",
    "imp_cat.plot(kind = 'barh')"
   ]
  },
  {
   "cell_type": "code",
   "execution_count": 33,
   "metadata": {},
   "outputs": [
    {
     "data": {
      "text/html": [
       "<div>\n",
       "<style scoped>\n",
       "    .dataframe tbody tr th:only-of-type {\n",
       "        vertical-align: middle;\n",
       "    }\n",
       "\n",
       "    .dataframe tbody tr th {\n",
       "        vertical-align: top;\n",
       "    }\n",
       "\n",
       "    .dataframe thead th {\n",
       "        text-align: right;\n",
       "    }\n",
       "</style>\n",
       "<table border=\"1\" class=\"dataframe\">\n",
       "  <thead>\n",
       "    <tr style=\"text-align: right;\">\n",
       "      <th></th>\n",
       "      <th>education</th>\n",
       "      <th>sex</th>\n",
       "      <th>age</th>\n",
       "      <th>car</th>\n",
       "      <th>car_type</th>\n",
       "      <th>decline_app_cnt</th>\n",
       "      <th>good_work</th>\n",
       "      <th>score_bki</th>\n",
       "      <th>bki_request_cnt</th>\n",
       "      <th>region_rating</th>\n",
       "      <th>...</th>\n",
       "      <th>work_address</th>\n",
       "      <th>income</th>\n",
       "      <th>sna</th>\n",
       "      <th>first_time</th>\n",
       "      <th>foreign_passport</th>\n",
       "      <th>default</th>\n",
       "      <th>if_train</th>\n",
       "      <th>weekday</th>\n",
       "      <th>day_of_year</th>\n",
       "      <th>if_had_decline</th>\n",
       "    </tr>\n",
       "  </thead>\n",
       "  <tbody>\n",
       "    <tr>\n",
       "      <th>34645</th>\n",
       "      <td>3</td>\n",
       "      <td>0</td>\n",
       "      <td>3.465736</td>\n",
       "      <td>0</td>\n",
       "      <td>0</td>\n",
       "      <td>0.693147</td>\n",
       "      <td>0</td>\n",
       "      <td>-1.881697</td>\n",
       "      <td>1.609438</td>\n",
       "      <td>2</td>\n",
       "      <td>...</td>\n",
       "      <td>2</td>\n",
       "      <td>10.126671</td>\n",
       "      <td>4</td>\n",
       "      <td>1</td>\n",
       "      <td>0</td>\n",
       "      <td>NaN</td>\n",
       "      <td>0</td>\n",
       "      <td>2</td>\n",
       "      <td>35</td>\n",
       "      <td>1</td>\n",
       "    </tr>\n",
       "    <tr>\n",
       "      <th>23054</th>\n",
       "      <td>4</td>\n",
       "      <td>1</td>\n",
       "      <td>3.295837</td>\n",
       "      <td>0</td>\n",
       "      <td>0</td>\n",
       "      <td>0.000000</td>\n",
       "      <td>0</td>\n",
       "      <td>-1.861614</td>\n",
       "      <td>0.000000</td>\n",
       "      <td>3</td>\n",
       "      <td>...</td>\n",
       "      <td>2</td>\n",
       "      <td>10.714440</td>\n",
       "      <td>1</td>\n",
       "      <td>3</td>\n",
       "      <td>0</td>\n",
       "      <td>0.0</td>\n",
       "      <td>1</td>\n",
       "      <td>5</td>\n",
       "      <td>3</td>\n",
       "      <td>0</td>\n",
       "    </tr>\n",
       "    <tr>\n",
       "      <th>11257</th>\n",
       "      <td>1</td>\n",
       "      <td>0</td>\n",
       "      <td>4.094345</td>\n",
       "      <td>0</td>\n",
       "      <td>0</td>\n",
       "      <td>0.000000</td>\n",
       "      <td>0</td>\n",
       "      <td>-2.031842</td>\n",
       "      <td>1.098612</td>\n",
       "      <td>3</td>\n",
       "      <td>...</td>\n",
       "      <td>1</td>\n",
       "      <td>10.064798</td>\n",
       "      <td>1</td>\n",
       "      <td>2</td>\n",
       "      <td>0</td>\n",
       "      <td>0.0</td>\n",
       "      <td>1</td>\n",
       "      <td>2</td>\n",
       "      <td>63</td>\n",
       "      <td>0</td>\n",
       "    </tr>\n",
       "    <tr>\n",
       "      <th>18149</th>\n",
       "      <td>3</td>\n",
       "      <td>0</td>\n",
       "      <td>3.951244</td>\n",
       "      <td>0</td>\n",
       "      <td>0</td>\n",
       "      <td>0.000000</td>\n",
       "      <td>0</td>\n",
       "      <td>-2.014621</td>\n",
       "      <td>2.564949</td>\n",
       "      <td>3</td>\n",
       "      <td>...</td>\n",
       "      <td>2</td>\n",
       "      <td>10.463132</td>\n",
       "      <td>1</td>\n",
       "      <td>4</td>\n",
       "      <td>0</td>\n",
       "      <td>0.0</td>\n",
       "      <td>1</td>\n",
       "      <td>6</td>\n",
       "      <td>60</td>\n",
       "      <td>0</td>\n",
       "    </tr>\n",
       "    <tr>\n",
       "      <th>9398</th>\n",
       "      <td>3</td>\n",
       "      <td>0</td>\n",
       "      <td>3.784190</td>\n",
       "      <td>1</td>\n",
       "      <td>0</td>\n",
       "      <td>0.000000</td>\n",
       "      <td>0</td>\n",
       "      <td>-2.308101</td>\n",
       "      <td>1.609438</td>\n",
       "      <td>2</td>\n",
       "      <td>...</td>\n",
       "      <td>3</td>\n",
       "      <td>9.615872</td>\n",
       "      <td>1</td>\n",
       "      <td>4</td>\n",
       "      <td>0</td>\n",
       "      <td>0.0</td>\n",
       "      <td>1</td>\n",
       "      <td>2</td>\n",
       "      <td>35</td>\n",
       "      <td>0</td>\n",
       "    </tr>\n",
       "  </tbody>\n",
       "</table>\n",
       "<p>5 rows × 21 columns</p>\n",
       "</div>"
      ],
      "text/plain": [
       "       education  sex       age  car  car_type  decline_app_cnt  good_work  \\\n",
       "34645          3    0  3.465736    0         0         0.693147          0   \n",
       "23054          4    1  3.295837    0         0         0.000000          0   \n",
       "11257          1    0  4.094345    0         0         0.000000          0   \n",
       "18149          3    0  3.951244    0         0         0.000000          0   \n",
       "9398           3    0  3.784190    1         0         0.000000          0   \n",
       "\n",
       "       score_bki  bki_request_cnt  region_rating  ...  work_address  \\\n",
       "34645  -1.881697         1.609438              2  ...             2   \n",
       "23054  -1.861614         0.000000              3  ...             2   \n",
       "11257  -2.031842         1.098612              3  ...             1   \n",
       "18149  -2.014621         2.564949              3  ...             2   \n",
       "9398   -2.308101         1.609438              2  ...             3   \n",
       "\n",
       "          income  sna  first_time  foreign_passport  default  if_train  \\\n",
       "34645  10.126671    4           1                 0      NaN         0   \n",
       "23054  10.714440    1           3                 0      0.0         1   \n",
       "11257  10.064798    1           2                 0      0.0         1   \n",
       "18149  10.463132    1           4                 0      0.0         1   \n",
       "9398    9.615872    1           4                 0      0.0         1   \n",
       "\n",
       "       weekday  day_of_year  if_had_decline  \n",
       "34645        2           35               1  \n",
       "23054        5            3               0  \n",
       "11257        2           63               0  \n",
       "18149        6           60               0  \n",
       "9398         2           35               0  \n",
       "\n",
       "[5 rows x 21 columns]"
      ]
     },
     "execution_count": 33,
     "metadata": {},
     "output_type": "execute_result"
    }
   ],
   "source": [
    "# проверим данные\n",
    "df.sample(5)"
   ]
  },
  {
   "cell_type": "code",
   "execution_count": 34,
   "metadata": {},
   "outputs": [
    {
     "name": "stdout",
     "output_type": "stream",
     "text": [
      "<class 'pandas.core.frame.DataFrame'>\n",
      "Int64Index: 110148 entries, 0 to 36348\n",
      "Data columns (total 21 columns):\n",
      " #   Column            Non-Null Count   Dtype  \n",
      "---  ------            --------------   -----  \n",
      " 0   education         110148 non-null  int32  \n",
      " 1   sex               110148 non-null  int32  \n",
      " 2   age               110148 non-null  float64\n",
      " 3   car               110148 non-null  int32  \n",
      " 4   car_type          110148 non-null  int32  \n",
      " 5   decline_app_cnt   110148 non-null  float64\n",
      " 6   good_work         110148 non-null  int64  \n",
      " 7   score_bki         110148 non-null  float64\n",
      " 8   bki_request_cnt   110148 non-null  float64\n",
      " 9   region_rating     110148 non-null  int64  \n",
      " 10  home_address      110148 non-null  int64  \n",
      " 11  work_address      110148 non-null  int64  \n",
      " 12  income            110148 non-null  float64\n",
      " 13  sna               110148 non-null  int64  \n",
      " 14  first_time        110148 non-null  int64  \n",
      " 15  foreign_passport  110148 non-null  int32  \n",
      " 16  default           73799 non-null   float64\n",
      " 17  if_train          110148 non-null  int64  \n",
      " 18  weekday           110148 non-null  int64  \n",
      " 19  day_of_year       110148 non-null  int64  \n",
      " 20  if_had_decline    110148 non-null  int64  \n",
      "dtypes: float64(6), int32(5), int64(10)\n",
      "memory usage: 18.9 MB\n"
     ]
    }
   ],
   "source": [
    "df.info()"
   ]
  },
  {
   "cell_type": "markdown",
   "metadata": {},
   "source": [
    "Пропусков нет, все данные закодированы, лишние - убраны"
   ]
  },
  {
   "cell_type": "markdown",
   "metadata": {},
   "source": [
    "## 3. Препроцессинг"
   ]
  },
  {
   "cell_type": "code",
   "execution_count": 35,
   "metadata": {},
   "outputs": [
    {
     "data": {
      "text/html": [
       "<div>\n",
       "<style scoped>\n",
       "    .dataframe tbody tr th:only-of-type {\n",
       "        vertical-align: middle;\n",
       "    }\n",
       "\n",
       "    .dataframe tbody tr th {\n",
       "        vertical-align: top;\n",
       "    }\n",
       "\n",
       "    .dataframe thead th {\n",
       "        text-align: right;\n",
       "    }\n",
       "</style>\n",
       "<table border=\"1\" class=\"dataframe\">\n",
       "  <thead>\n",
       "    <tr style=\"text-align: right;\">\n",
       "      <th></th>\n",
       "      <th>education_0</th>\n",
       "      <th>education_1</th>\n",
       "      <th>education_2</th>\n",
       "      <th>education_3</th>\n",
       "      <th>education_4</th>\n",
       "      <th>region_rating_0</th>\n",
       "      <th>region_rating_1</th>\n",
       "      <th>region_rating_2</th>\n",
       "      <th>region_rating_3</th>\n",
       "      <th>region_rating_4</th>\n",
       "      <th>...</th>\n",
       "      <th>first_time_2</th>\n",
       "      <th>first_time_3</th>\n",
       "      <th>first_time_4</th>\n",
       "      <th>weekday_0</th>\n",
       "      <th>weekday_1</th>\n",
       "      <th>weekday_2</th>\n",
       "      <th>weekday_3</th>\n",
       "      <th>weekday_4</th>\n",
       "      <th>weekday_5</th>\n",
       "      <th>weekday_6</th>\n",
       "    </tr>\n",
       "  </thead>\n",
       "  <tbody>\n",
       "    <tr>\n",
       "      <th>35475</th>\n",
       "      <td>0</td>\n",
       "      <td>0</td>\n",
       "      <td>0</td>\n",
       "      <td>1</td>\n",
       "      <td>0</td>\n",
       "      <td>0</td>\n",
       "      <td>0</td>\n",
       "      <td>0</td>\n",
       "      <td>0</td>\n",
       "      <td>1</td>\n",
       "      <td>...</td>\n",
       "      <td>0</td>\n",
       "      <td>0</td>\n",
       "      <td>0</td>\n",
       "      <td>0</td>\n",
       "      <td>0</td>\n",
       "      <td>0</td>\n",
       "      <td>0</td>\n",
       "      <td>0</td>\n",
       "      <td>1</td>\n",
       "      <td>0</td>\n",
       "    </tr>\n",
       "    <tr>\n",
       "      <th>74266</th>\n",
       "      <td>0</td>\n",
       "      <td>0</td>\n",
       "      <td>0</td>\n",
       "      <td>0</td>\n",
       "      <td>1</td>\n",
       "      <td>0</td>\n",
       "      <td>0</td>\n",
       "      <td>0</td>\n",
       "      <td>1</td>\n",
       "      <td>0</td>\n",
       "      <td>...</td>\n",
       "      <td>1</td>\n",
       "      <td>0</td>\n",
       "      <td>0</td>\n",
       "      <td>1</td>\n",
       "      <td>0</td>\n",
       "      <td>0</td>\n",
       "      <td>0</td>\n",
       "      <td>0</td>\n",
       "      <td>0</td>\n",
       "      <td>0</td>\n",
       "    </tr>\n",
       "    <tr>\n",
       "      <th>2409</th>\n",
       "      <td>0</td>\n",
       "      <td>0</td>\n",
       "      <td>0</td>\n",
       "      <td>1</td>\n",
       "      <td>0</td>\n",
       "      <td>0</td>\n",
       "      <td>0</td>\n",
       "      <td>0</td>\n",
       "      <td>0</td>\n",
       "      <td>1</td>\n",
       "      <td>...</td>\n",
       "      <td>0</td>\n",
       "      <td>1</td>\n",
       "      <td>0</td>\n",
       "      <td>0</td>\n",
       "      <td>0</td>\n",
       "      <td>0</td>\n",
       "      <td>0</td>\n",
       "      <td>1</td>\n",
       "      <td>0</td>\n",
       "      <td>0</td>\n",
       "    </tr>\n",
       "    <tr>\n",
       "      <th>84063</th>\n",
       "      <td>0</td>\n",
       "      <td>0</td>\n",
       "      <td>0</td>\n",
       "      <td>1</td>\n",
       "      <td>0</td>\n",
       "      <td>0</td>\n",
       "      <td>0</td>\n",
       "      <td>0</td>\n",
       "      <td>1</td>\n",
       "      <td>0</td>\n",
       "      <td>...</td>\n",
       "      <td>0</td>\n",
       "      <td>1</td>\n",
       "      <td>0</td>\n",
       "      <td>0</td>\n",
       "      <td>0</td>\n",
       "      <td>0</td>\n",
       "      <td>0</td>\n",
       "      <td>0</td>\n",
       "      <td>0</td>\n",
       "      <td>1</td>\n",
       "    </tr>\n",
       "    <tr>\n",
       "      <th>18753</th>\n",
       "      <td>0</td>\n",
       "      <td>0</td>\n",
       "      <td>0</td>\n",
       "      <td>1</td>\n",
       "      <td>0</td>\n",
       "      <td>0</td>\n",
       "      <td>0</td>\n",
       "      <td>0</td>\n",
       "      <td>1</td>\n",
       "      <td>0</td>\n",
       "      <td>...</td>\n",
       "      <td>0</td>\n",
       "      <td>0</td>\n",
       "      <td>0</td>\n",
       "      <td>0</td>\n",
       "      <td>0</td>\n",
       "      <td>0</td>\n",
       "      <td>0</td>\n",
       "      <td>1</td>\n",
       "      <td>0</td>\n",
       "      <td>0</td>\n",
       "    </tr>\n",
       "  </tbody>\n",
       "</table>\n",
       "<p>5 rows × 33 columns</p>\n",
       "</div>"
      ],
      "text/plain": [
       "       education_0  education_1  education_2  education_3  education_4  \\\n",
       "35475            0            0            0            1            0   \n",
       "74266            0            0            0            0            1   \n",
       "2409             0            0            0            1            0   \n",
       "84063            0            0            0            1            0   \n",
       "18753            0            0            0            1            0   \n",
       "\n",
       "       region_rating_0  region_rating_1  region_rating_2  region_rating_3  \\\n",
       "35475                0                0                0                0   \n",
       "74266                0                0                0                1   \n",
       "2409                 0                0                0                0   \n",
       "84063                0                0                0                1   \n",
       "18753                0                0                0                1   \n",
       "\n",
       "       region_rating_4  ...  first_time_2  first_time_3  first_time_4  \\\n",
       "35475                1  ...             0             0             0   \n",
       "74266                0  ...             1             0             0   \n",
       "2409                 1  ...             0             1             0   \n",
       "84063                0  ...             0             1             0   \n",
       "18753                0  ...             0             0             0   \n",
       "\n",
       "       weekday_0  weekday_1  weekday_2  weekday_3  weekday_4  weekday_5  \\\n",
       "35475          0          0          0          0          0          1   \n",
       "74266          1          0          0          0          0          0   \n",
       "2409           0          0          0          0          1          0   \n",
       "84063          0          0          0          0          0          0   \n",
       "18753          0          0          0          0          1          0   \n",
       "\n",
       "       weekday_6  \n",
       "35475          0  \n",
       "74266          0  \n",
       "2409           0  \n",
       "84063          1  \n",
       "18753          0  \n",
       "\n",
       "[5 rows x 33 columns]"
      ]
     },
     "execution_count": 35,
     "metadata": {},
     "output_type": "execute_result"
    }
   ],
   "source": [
    "# сбросим индекс - иначе признаки не объединяются в датасет Х\n",
    "df.reset_index(drop=True, inplace=True)\n",
    "\n",
    "# создадим dummy переменные\n",
    "df_dum_cat = pd.get_dummies(df.loc[:, cat_cols], columns = cat_cols)\n",
    "df_dum_cat.sample(5)"
   ]
  },
  {
   "cell_type": "code",
   "execution_count": 36,
   "metadata": {},
   "outputs": [],
   "source": [
    "# стандартизиуем числовые признаки\n",
    "df_num = pd.DataFrame(StandardScaler().fit_transform(df[num_cols]), columns = num_cols)"
   ]
  },
  {
   "cell_type": "code",
   "execution_count": 37,
   "metadata": {},
   "outputs": [],
   "source": [
    "# сбросим индексы - без этого не работало объединение\n",
    "#df_num.reset_index(drop=True, inplace=True)\n",
    "#df_dum_cat.reset_index(drop=True, inplace=True)\n",
    "#df.reset_index(drop=True, inplace=True)\n",
    "\n",
    "# объединим все подготовленные признаки в один датасет\n",
    "X = pd.concat([df_num, df_dum_cat, df[bin_cols], df[['if_train', 'default']]], axis = 1)\n",
    "#Y = df['default'].values"
   ]
  },
  {
   "cell_type": "code",
   "execution_count": 38,
   "metadata": {},
   "outputs": [
    {
     "name": "stdout",
     "output_type": "stream",
     "text": [
      "<class 'pandas.core.frame.DataFrame'>\n",
      "RangeIndex: 110148 entries, 0 to 110147\n",
      "Data columns (total 47 columns):\n",
      " #   Column            Non-Null Count   Dtype  \n",
      "---  ------            --------------   -----  \n",
      " 0   age               110148 non-null  float64\n",
      " 1   decline_app_cnt   110148 non-null  float64\n",
      " 2   score_bki         110148 non-null  float64\n",
      " 3   bki_request_cnt   110148 non-null  float64\n",
      " 4   income            110148 non-null  float64\n",
      " 5   day_of_year       110148 non-null  float64\n",
      " 6   education_0       110148 non-null  uint8  \n",
      " 7   education_1       110148 non-null  uint8  \n",
      " 8   education_2       110148 non-null  uint8  \n",
      " 9   education_3       110148 non-null  uint8  \n",
      " 10  education_4       110148 non-null  uint8  \n",
      " 11  region_rating_0   110148 non-null  uint8  \n",
      " 12  region_rating_1   110148 non-null  uint8  \n",
      " 13  region_rating_2   110148 non-null  uint8  \n",
      " 14  region_rating_3   110148 non-null  uint8  \n",
      " 15  region_rating_4   110148 non-null  uint8  \n",
      " 16  region_rating_5   110148 non-null  uint8  \n",
      " 17  region_rating_6   110148 non-null  uint8  \n",
      " 18  home_address_1    110148 non-null  uint8  \n",
      " 19  home_address_2    110148 non-null  uint8  \n",
      " 20  home_address_3    110148 non-null  uint8  \n",
      " 21  work_address_1    110148 non-null  uint8  \n",
      " 22  work_address_2    110148 non-null  uint8  \n",
      " 23  work_address_3    110148 non-null  uint8  \n",
      " 24  sna_1             110148 non-null  uint8  \n",
      " 25  sna_2             110148 non-null  uint8  \n",
      " 26  sna_3             110148 non-null  uint8  \n",
      " 27  sna_4             110148 non-null  uint8  \n",
      " 28  first_time_1      110148 non-null  uint8  \n",
      " 29  first_time_2      110148 non-null  uint8  \n",
      " 30  first_time_3      110148 non-null  uint8  \n",
      " 31  first_time_4      110148 non-null  uint8  \n",
      " 32  weekday_0         110148 non-null  uint8  \n",
      " 33  weekday_1         110148 non-null  uint8  \n",
      " 34  weekday_2         110148 non-null  uint8  \n",
      " 35  weekday_3         110148 non-null  uint8  \n",
      " 36  weekday_4         110148 non-null  uint8  \n",
      " 37  weekday_5         110148 non-null  uint8  \n",
      " 38  weekday_6         110148 non-null  uint8  \n",
      " 39  sex               110148 non-null  int32  \n",
      " 40  car               110148 non-null  int32  \n",
      " 41  car_type          110148 non-null  int32  \n",
      " 42  good_work         110148 non-null  int64  \n",
      " 43  foreign_passport  110148 non-null  int32  \n",
      " 44  if_had_decline    110148 non-null  int64  \n",
      " 45  if_train          110148 non-null  int64  \n",
      " 46  default           73799 non-null   float64\n",
      "dtypes: float64(7), int32(4), int64(3), uint8(33)\n",
      "memory usage: 13.6 MB\n"
     ]
    }
   ],
   "source": [
    "X.info()"
   ]
  },
  {
   "cell_type": "markdown",
   "metadata": {},
   "source": [
    "## 4. Строим модель"
   ]
  },
  {
   "cell_type": "code",
   "execution_count": 39,
   "metadata": {},
   "outputs": [],
   "source": [
    "train_data = X.query('if_train == 1').drop(['if_train'], axis=1)\n",
    "test_data = X.query('if_train == 0').drop(['if_train'], axis=1)\n",
    "\n",
    "y = train_data.default.values            \n",
    "X = train_data.drop(['default'], axis=1)"
   ]
  },
  {
   "cell_type": "code",
   "execution_count": 40,
   "metadata": {},
   "outputs": [],
   "source": [
    "X_train, X_test, y_train, y_test = train_test_split(X, y, test_size=0.2, random_state=RANDOM_SEED)"
   ]
  },
  {
   "cell_type": "code",
   "execution_count": 41,
   "metadata": {},
   "outputs": [
    {
     "name": "stdout",
     "output_type": "stream",
     "text": [
      "(73799, 45) (59039, 45) (14760, 45)\n"
     ]
    }
   ],
   "source": [
    "print(X.shape, X_train.shape, X_test.shape)"
   ]
  },
  {
   "cell_type": "code",
   "execution_count": 42,
   "metadata": {},
   "outputs": [
    {
     "data": {
      "text/plain": [
       "LogisticRegression(max_iter=2000, random_state=42)"
      ]
     },
     "execution_count": 42,
     "metadata": {},
     "output_type": "execute_result"
    }
   ],
   "source": [
    "model = LogisticRegression(max_iter = 2000, random_state=RANDOM_SEED)\n",
    "model.fit(X_train, y_train)"
   ]
  },
  {
   "cell_type": "code",
   "execution_count": 43,
   "metadata": {},
   "outputs": [
    {
     "data": {
      "image/png": "[encoded data removed]",
      "text/plain": [
       "<Figure size 432x288 with 1 Axes>"
      ]
     },
     "metadata": {
      "needs_background": "light"
     },
     "output_type": "display_data"
    }
   ],
   "source": [
    "m_1 = ModelData(model, X_test, y_test)\n",
    "m_1.roc_curve_plot()"
   ]
  },
  {
   "cell_type": "markdown",
   "metadata": {},
   "source": [
    "Метрика ROC_AUC достаточно велика, то есть даже без подбора параметров мы смогли построить модель, которая работает лучше случайного предстказывания"
   ]
  },
  {
   "cell_type": "code",
   "execution_count": 44,
   "metadata": {},
   "outputs": [
    {
     "data": {
      "text/plain": [
       "accuracy     0.875068\n",
       "precision    0.414141\n",
       "recall       0.022441\n",
       "F1           0.042575\n",
       "ROC_AUC      0.744556\n",
       "dtype: float64"
      ]
     },
     "execution_count": 44,
     "metadata": {},
     "output_type": "execute_result"
    }
   ],
   "source": [
    "m_1.get_metrics()"
   ]
  },
  {
   "cell_type": "code",
   "execution_count": 45,
   "metadata": {},
   "outputs": [
    {
     "data": {
      "image/png": "[encoded data removed]",
      "text/plain": [
       "<Figure size 432x288 with 2 Axes>"
      ]
     },
     "metadata": {
      "needs_background": "light"
     },
     "output_type": "display_data"
    }
   ],
   "source": [
    "m_1.conf_matrix_plot()"
   ]
  },
  {
   "cell_type": "code",
   "execution_count": 46,
   "metadata": {},
   "outputs": [
    {
     "data": {
      "image/png": "[encoded data removed]",
      "text/plain": [
       "<Figure size 432x288 with 1 Axes>"
      ]
     },
     "metadata": {
      "needs_background": "light"
     },
     "output_type": "display_data"
    }
   ],
   "source": [
    "m_1.precision_recall_plot()"
   ]
  },
  {
   "cell_type": "markdown",
   "metadata": {},
   "source": [
    "Вывод: хотя ROC_AUC и accuracy довольно высокие, f1 и recall - низкие, а FN  высокий - большое количество клиентов, предсказанных как недефолтные, не вернут кредит, банк понесет убытки. Попробуем улучшить модель."
   ]
  },
  {
   "cell_type": "markdown",
   "metadata": {},
   "source": [
    "## 6. Улучшаем модель"
   ]
  },
  {
   "cell_type": "markdown",
   "metadata": {},
   "source": [
    "### 6.1 Сбалансированность данных"
   ]
  },
  {
   "cell_type": "code",
   "execution_count": 47,
   "metadata": {},
   "outputs": [
    {
     "data": {
      "text/plain": [
       "<AxesSubplot:xlabel='default', ylabel='count'>"
      ]
     },
     "execution_count": 47,
     "metadata": {},
     "output_type": "execute_result"
    },
    {
     "data": {
      "image/png": "[encoded data removed]",
      "text/plain": [
       "<Figure size 432x288 with 1 Axes>"
      ]
     },
     "metadata": {
      "needs_background": "light"
     },
     "output_type": "display_data"
    }
   ],
   "source": [
    "sns.countplot(x='default', data=df)"
   ]
  },
  {
   "cell_type": "markdown",
   "metadata": {},
   "source": [
    "Видим, что значения не сбалансированы, неплательщиков гораздо меньше. Попробуем сбалансировать"
   ]
  },
  {
   "cell_type": "code",
   "execution_count": 48,
   "metadata": {},
   "outputs": [],
   "source": [
    "model = LogisticRegression(class_weight='balanced', max_iter = 2000, random_state = RANDOM_SEED)\n",
    "model.fit(X_train, y_train)\n",
    "m_2 = ModelData(model, X_test, y_test)"
   ]
  },
  {
   "cell_type": "code",
   "execution_count": 49,
   "metadata": {},
   "outputs": [
    {
     "data": {
      "image/png": "[encoded data removed]",
      "text/plain": [
       "<Figure size 432x288 with 1 Axes>"
      ]
     },
     "metadata": {
      "needs_background": "light"
     },
     "output_type": "display_data"
    },
    {
     "data": {
      "image/png": "[encoded data removed]",
      "text/plain": [
       "<Figure size 432x288 with 2 Axes>"
      ]
     },
     "metadata": {
      "needs_background": "light"
     },
     "output_type": "display_data"
    },
    {
     "data": {
      "image/png": "[encoded data removed]",
      "text/plain": [
       "<Figure size 432x288 with 1 Axes>"
      ]
     },
     "metadata": {
      "needs_background": "light"
     },
     "output_type": "display_data"
    },
    {
     "data": {
      "text/plain": [
       "accuracy     0.670257\n",
       "precision    0.226126\n",
       "recall       0.686918\n",
       "F1           0.340247\n",
       "ROC_AUC      0.744231\n",
       "dtype: float64"
      ]
     },
     "execution_count": 49,
     "metadata": {},
     "output_type": "execute_result"
    }
   ],
   "source": [
    "m_2.roc_curve_plot()\n",
    "m_2.conf_matrix_plot()\n",
    "m_2.precision_recall_plot()\n",
    "m_2.get_metrics()"
   ]
  },
  {
   "cell_type": "markdown",
   "metadata": {},
   "source": [
    "Вывод: видим, что при бидинсировке у нас значительно выросли f1 и recall, FN стал ниже - модель реже ошибается. При этом резко выросли FP - модель сильно перестраховывается и хороших клиентов записывает в возможные \"неплательщики\" "
   ]
  },
  {
   "cell_type": "markdown",
   "metadata": {},
   "source": [
    "### 6.2 Подбор параметров модели"
   ]
  },
  {
   "cell_type": "code",
   "execution_count": 50,
   "metadata": {},
   "outputs": [],
   "source": [
    "C = np.logspace(-1, 3, 10)\n",
    "iter_ = 1000\n",
    "epsilon_stop = 1e-3\n",
    " \n",
    "hyperparameters = [\n",
    "    {'penalty': ['l1'], \n",
    "     'C': C,\n",
    "     'solver': ['liblinear', 'saga'], \n",
    "     'multi_class': ['auto','ovr'], \n",
    "     'max_iter':[iter_],\n",
    "     'tol':[epsilon_stop]},\n",
    "    {'penalty': ['l2'], \n",
    "     'C': C,\n",
    "     'solver': ['newton-cg', 'lbfgs', 'liblinear', 'sag', 'saga'], \n",
    "     'multi_class': ['auto','ovr'], \n",
    "     'max_iter':[iter_],\n",
    "     'tol':[epsilon_stop]},\n",
    "    {'penalty': ['none'], \n",
    "     'C': C,\n",
    "     'solver': ['newton-cg', 'lbfgs', 'sag', 'saga'], \n",
    "     'multi_class': ['auto','ovr'], \n",
    "     'max_iter':[iter_],\n",
    "     'tol':[epsilon_stop]},\n",
    "    {'penalty': ['elasticnet'], \n",
    "     'C': C,\n",
    "     'solver': ['saga'], \n",
    "     'multi_class': ['auto','ovr'], \n",
    "     'max_iter':[iter_],\n",
    "     'tol':[epsilon_stop]},\n",
    "]"
   ]
  },
  {
   "cell_type": "code",
   "execution_count": 51,
   "metadata": {},
   "outputs": [],
   "source": [
    "model = LogisticRegression(class_weight = 'balanced', random_state = RANDOM_SEED)"
   ]
  },
  {
   "cell_type": "code",
   "execution_count": 52,
   "metadata": {},
   "outputs": [
    {
     "name": "stdout",
     "output_type": "stream",
     "text": [
      "Лучшие значения параметров:\n",
      "C = 0.774263682681127,\n",
      "class_weight = balanced,\n",
      "dual = False,\n",
      "fit_intercept = True,\n",
      "intercept_scaling = 1,\n",
      "l1_ratio = None,\n",
      "max_iter = 1000,\n",
      "multi_class = auto,\n",
      "n_jobs = None,\n",
      "penalty = l1,\n",
      "random_state = 42,\n",
      "solver = saga,\n",
      "tol = 0.001,\n",
      "verbose = 0,\n",
      "warm_start = False,\n"
     ]
    }
   ],
   "source": [
    "gridsearch = GridSearchCV(model, hyperparameters, scoring='f1', n_jobs=-1, cv=5)\n",
    "gridsearch.fit(X_train, y_train)\n",
    "model_best_params = gridsearch.best_estimator_\n",
    "\n",
    "# результат\n",
    "best_param_dict = model_best_params.get_params()\n",
    "print('Лучшие значения параметров:') \n",
    "for param in best_param_dict.keys():\n",
    "        print('{} = {},'.format(param, best_param_dict[param]))"
   ]
  },
  {
   "cell_type": "code",
   "execution_count": 53,
   "metadata": {},
   "outputs": [
    {
     "data": {
      "image/png": "[encoded data removed]",
      "text/plain": [
       "<Figure size 432x288 with 1 Axes>"
      ]
     },
     "metadata": {
      "needs_background": "light"
     },
     "output_type": "display_data"
    },
    {
     "data": {
      "image/png": "[encoded data removed]",
      "text/plain": [
       "<Figure size 432x288 with 2 Axes>"
      ]
     },
     "metadata": {
      "needs_background": "light"
     },
     "output_type": "display_data"
    },
    {
     "data": {
      "image/png": "[encoded data removed]",
      "text/plain": [
       "<Figure size 432x288 with 1 Axes>"
      ]
     },
     "metadata": {
      "needs_background": "light"
     },
     "output_type": "display_data"
    },
    {
     "data": {
      "text/plain": [
       "accuracy     0.670325\n",
       "precision    0.226167\n",
       "recall       0.686918\n",
       "F1           0.340293\n",
       "ROC_AUC      0.744264\n",
       "dtype: float64"
      ]
     },
     "execution_count": 53,
     "metadata": {},
     "output_type": "execute_result"
    }
   ],
   "source": [
    "m_3 = ModelData(model_best_params, X_test, y_test)\n",
    "m_3.roc_curve_plot()\n",
    "m_3.conf_matrix_plot()\n",
    "m_3.precision_recall_plot()\n",
    "m_3.get_metrics()"
   ]
  },
  {
   "cell_type": "markdown",
   "metadata": {},
   "source": [
    "Видно, что как-то значительно улучшить показатели модели при подборе параметров не удалось. К сожалению, время заканчивается и дальнейшие эксперименты продолжу после публикации этого ответа"
   ]
  },
  {
   "cell_type": "markdown",
   "metadata": {},
   "source": [
    "## 7. Submission"
   ]
  },
  {
   "cell_type": "code",
   "execution_count": 54,
   "metadata": {},
   "outputs": [],
   "source": [
    "X_test = test_data.drop(['default'], axis=1)\n",
    "\n",
    "y_pred_prob = model_best_params.predict_proba(X_test)[:,1]\n",
    "\n",
    "submit = pd.DataFrame(df_test['client_id'])\n",
    "submit['default']=y_pred_prob\n",
    "\n",
    "submit.to_csv('submission_3.csv', index=False)"
   ]
  },
  {
   "cell_type": "markdown",
   "metadata": {},
   "source": [
    "## 8. Выводы\n",
    "1. Благодаря балансировке целевой переменной удалось значительно улучшить значение f1 и уменьшить количество false negative клиентов - мы стали лучше выявлять рискованных клиентов. Возможно, стоит попробовать с under sampling \n",
    "2. При этом выросло количество false positive клиентов, что означает, что банк недополучит прибыль\n",
    "3. Подбор параметров модели не дал значительного улучшения - возможно, с этим надо будет поэкспериментировать еще"
   ]
  },
  {
   "cell_type": "code",
   "execution_count": null,
   "metadata": {},
   "outputs": [],
   "source": []
  }
 ],
 "metadata": {
  "kernelspec": {
   "display_name": "Python 3",
   "language": "python",
   "name": "python3"
  },
  "language_info": {
   "codemirror_mode": {
    "name": "ipython",
    "version": 3
   },
   "file_extension": ".py",
   "mimetype": "text/x-python",
   "name": "python",
   "nbconvert_exporter": "python",
   "pygments_lexer": "ipython3",
   "version": "3.8.3"
  }
 },
 "nbformat": 4,
 "nbformat_minor": 4
}
